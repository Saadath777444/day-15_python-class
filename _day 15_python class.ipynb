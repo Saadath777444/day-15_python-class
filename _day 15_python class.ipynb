{
 "cells": [
  {
   "cell_type": "code",
   "execution_count": null,
   "id": "b31559ee",
   "metadata": {},
   "outputs": [],
   "source": [
    "Interview questions:\n"
   ]
  },
  {
   "cell_type": "code",
   "execution_count": 3,
   "id": "a6c062a3",
   "metadata": {},
   "outputs": [
    {
     "ename": "SyntaxError",
     "evalue": "invalid decimal literal (3457645113.py, line 1)",
     "output_type": "error",
     "traceback": [
      "\u001b[1;36m  Cell \u001b[1;32mIn[3], line 1\u001b[1;36m\u001b[0m\n\u001b[1;33m    1.what is the definition of  dictionary.?\u001b[0m\n\u001b[1;37m     ^\u001b[0m\n\u001b[1;31mSyntaxError\u001b[0m\u001b[1;31m:\u001b[0m invalid decimal literal\n"
     ]
    }
   ],
   "source": [
    "1.what is the definition of  dictionary.?\n",
    "2.what is a for loop..?\n",
    "3.what is the approach for arranging the list in a alphabetical order.?\n",
    "4.what is a tuple datatype.?\n",
    "5.what is a class in python.?\n",
    "6.what is the diff between function and a method..?\n",
    "7.what is the difference between list and tuple.?\n",
    "8.what is the use of object in the class.?\n",
    "9.what is the method name that we can use to verify and validate the datatype defined.?\n",
    "10.students = ['sandhya','ayesha','venkat','naveen']\n",
    "11.what is the diff btw arguments and parameters.?\n",
    "#mounika\n"
   ]
  },
  {
   "cell_type": "code",
   "execution_count": 7,
   "id": "dc9f339f",
   "metadata": {},
   "outputs": [],
   "source": [
    "students = ['sandhya','ayesha','venkat','naveen']\n"
   ]
  },
  {
   "cell_type": "code",
   "execution_count": null,
   "id": "0f4ceb72",
   "metadata": {},
   "outputs": [],
   "source": [
    "students.append()"
   ]
  },
  {
   "cell_type": "code",
   "execution_count": null,
   "id": "4e10d984",
   "metadata": {},
   "outputs": [],
   "source": [
    "# i want to add farhat name at 2nd index..."
   ]
  },
  {
   "cell_type": "code",
   "execution_count": 8,
   "id": "868f9b15",
   "metadata": {},
   "outputs": [],
   "source": [
    "students.insert(2,'farhat')"
   ]
  },
  {
   "cell_type": "code",
   "execution_count": 9,
   "id": "ef2b0776",
   "metadata": {},
   "outputs": [
    {
     "name": "stdout",
     "output_type": "stream",
     "text": [
      "['sandhya', 'ayesha', 'farhat', 'venkat', 'naveen']\n"
     ]
    }
   ],
   "source": [
    "print(students)"
   ]
  },
  {
   "cell_type": "code",
   "execution_count": null,
   "id": "86df0f84",
   "metadata": {},
   "outputs": [],
   "source": [
    "students....>print each student"
   ]
  },
  {
   "cell_type": "code",
   "execution_count": 10,
   "id": "23c0582b",
   "metadata": {},
   "outputs": [
    {
     "name": "stdout",
     "output_type": "stream",
     "text": [
      "['sandhya', 'ayesha', 'farhat', 'venkat', 'naveen']\n"
     ]
    }
   ],
   "source": [
    "print(students)"
   ]
  },
  {
   "cell_type": "code",
   "execution_count": 11,
   "id": "1fe9d471",
   "metadata": {},
   "outputs": [
    {
     "name": "stdout",
     "output_type": "stream",
     "text": [
      "sandhya\n",
      "ayesha\n",
      "farhat\n",
      "venkat\n",
      "naveen\n"
     ]
    }
   ],
   "source": [
    "for temp in students:\n",
    "    print(temp)"
   ]
  },
  {
   "cell_type": "code",
   "execution_count": null,
   "id": "47199500",
   "metadata": {},
   "outputs": [],
   "source": []
  },
  {
   "cell_type": "code",
   "execution_count": 12,
   "id": "f3962db0",
   "metadata": {},
   "outputs": [],
   "source": [
    "school = {'sandhya':1,'basha':2,'dipali':3,'rajee':4}"
   ]
  },
  {
   "cell_type": "code",
   "execution_count": 13,
   "id": "b02cd9b8",
   "metadata": {},
   "outputs": [
    {
     "name": "stdout",
     "output_type": "stream",
     "text": [
      "['sandhya', 'ayesha', 'farhat', 'venkat', 'naveen']\n"
     ]
    }
   ],
   "source": [
    "print(students)"
   ]
  },
  {
   "cell_type": "code",
   "execution_count": null,
   "id": "bc161f13",
   "metadata": {},
   "outputs": [],
   "source": [
    "#i want to make basha roll number as 10"
   ]
  },
  {
   "cell_type": "code",
   "execution_count": 14,
   "id": "8046eb8b",
   "metadata": {},
   "outputs": [],
   "source": [
    "school['basha']=10"
   ]
  },
  {
   "cell_type": "code",
   "execution_count": 16,
   "id": "bf95511e",
   "metadata": {},
   "outputs": [
    {
     "name": "stdout",
     "output_type": "stream",
     "text": [
      "{'sandhya': 1, 'basha': 10, 'dipali': 3, 'rajee': 4}\n"
     ]
    }
   ],
   "source": [
    "print(school)"
   ]
  },
  {
   "cell_type": "code",
   "execution_count": null,
   "id": "0ff7bc43",
   "metadata": {},
   "outputs": [],
   "source": []
  },
  {
   "cell_type": "code",
   "execution_count": null,
   "id": "7a3a7688",
   "metadata": {},
   "outputs": [],
   "source": []
  },
  {
   "cell_type": "code",
   "execution_count": null,
   "id": "6bcd987e",
   "metadata": {},
   "outputs": [],
   "source": []
  },
  {
   "cell_type": "code",
   "execution_count": null,
   "id": "c479385b",
   "metadata": {},
   "outputs": [],
   "source": []
  }
 ],
 "metadata": {
  "kernelspec": {
   "display_name": "Python 3 (ipykernel)",
   "language": "python",
   "name": "python3"
  },
  "language_info": {
   "codemirror_mode": {
    "name": "ipython",
    "version": 3
   },
   "file_extension": ".py",
   "mimetype": "text/x-python",
   "name": "python",
   "nbconvert_exporter": "python",
   "pygments_lexer": "ipython3",
   "version": "3.11.3"
  }
 },
 "nbformat": 4,
 "nbformat_minor": 5
}
